{
 "cells": [
  {
   "cell_type": "code",
   "execution_count": 91,
   "id": "907f726a-7c88-4ede-8de4-a87a8d40ab7d",
   "metadata": {},
   "outputs": [],
   "source": [
    "import pandas as pd"
   ]
  },
  {
   "cell_type": "code",
   "execution_count": 93,
   "id": "fbab002c-23e7-41e8-8f33-7b3a871c96af",
   "metadata": {},
   "outputs": [],
   "source": [
    "file_path = 'original_graduates.csv'  # Replace with your file path\n",
    "graduate_data_df = pd.read_csv(file_path)"
   ]
  },
  {
   "cell_type": "code",
   "execution_count": 95,
   "id": "a7adcca7-179f-401b-a3f8-1c0c9933d2d5",
   "metadata": {},
   "outputs": [],
   "source": [
    "majors_to_keep = [\n",
    "    'Biological Sciences', 'Chemical Engineering', 'Chemistry', 'Civil Engineering', \n",
    "    'Computer Science and Math', 'Economics', 'Electrical Engineering', \n",
    "    'Mechanical Engineering', 'Other Engineering', 'Physics and Astronomy', \n",
    "    'Psychology'\n",
    "]\n",
    "\n",
    "years_to_keep = ['1995','1997','1999','2001','2003','2006','2008','2010','2013','2015']"
   ]
  },
  {
   "cell_type": "code",
   "execution_count": 97,
   "id": "72a8ef34-01f8-42dd-8705-3c06df8eafe9",
   "metadata": {},
   "outputs": [],
   "source": [
    "filtered_df = graduate_data_df[graduate_data_df['Education.Major'].isin(majors_to_keep)]\n"
   ]
  },
  {
   "cell_type": "code",
   "execution_count": 99,
   "id": "8494539e-7e66-4164-b7b8-7e08576f7065",
   "metadata": {},
   "outputs": [],
   "source": [
    "columns_to_keep = [\n",
    "    'Year', 'Demographics.Total', 'Education.Major', 'Salaries.Mean', \n",
    "    'Salaries.Median','Salaries.Quantity', 'Demographics.Ethnicity.Asians', 'Demographics.Ethnicity.Minorities', \n",
    "    'Demographics.Ethnicity.Whites', 'Demographics.Gender.Females', 'Demographics.Gender.Males', \n",
    "    'Education.Degrees.Bachelors', 'Education.Degrees.Doctorates', \n",
    "    'Education.Degrees.Masters', 'Education.Degrees.Professionals'\n",
    "]"
   ]
  },
  {
   "cell_type": "code",
   "execution_count": 101,
   "id": "2e9c2414-93d2-479f-a53e-e6d347445632",
   "metadata": {},
   "outputs": [],
   "source": [
    "final_df = filtered_df[columns_to_keep]\n",
    "cleaned_df = final_df[final_df[\"Year\"] != \"1993\"]"
   ]
  },
  {
   "cell_type": "code",
   "execution_count": 103,
   "id": "1668e880-1410-4ec7-8efe-4b2865e4dfb5",
   "metadata": {},
   "outputs": [
    {
     "name": "stdout",
     "output_type": "stream",
     "text": [
      "Cleaned dataset saved to graduates_filtered.csv\n"
     ]
    }
   ],
   "source": [
    "output_file_path = 'graduates_filtered.csv'  # Replace with your desired save location\n",
    "cleaned_df.to_csv(output_file_path, index=False)\n",
    "\n",
    "print(f\"Cleaned dataset saved to {output_file_path}\")"
   ]
  },
  {
   "cell_type": "code",
   "execution_count": null,
   "id": "2d414461-3f5d-4d25-ab1c-6a397a527c0b",
   "metadata": {},
   "outputs": [],
   "source": []
  }
 ],
 "metadata": {
  "kernelspec": {
   "display_name": "Python 3 (ipykernel)",
   "language": "python",
   "name": "python3"
  },
  "language_info": {
   "codemirror_mode": {
    "name": "ipython",
    "version": 3
   },
   "file_extension": ".py",
   "mimetype": "text/x-python",
   "name": "python",
   "nbconvert_exporter": "python",
   "pygments_lexer": "ipython3",
   "version": "3.12.4"
  }
 },
 "nbformat": 4,
 "nbformat_minor": 5
}
